{
 "cells": [
  {
   "cell_type": "code",
   "execution_count": 10,
   "id": "93696aed",
   "metadata": {},
   "outputs": [
    {
     "name": "stdout",
     "output_type": "stream",
     "text": [
      "Defaulting to user installation because normal site-packages is not writeableNote: you may need to restart the kernel to use updated packages.\n"
     ]
    },
    {
     "name": "stderr",
     "output_type": "stream",
     "text": [
      "ERROR: pip's dependency resolver does not currently take into account all the packages that are installed. This behaviour is the source of the following dependency conflicts.\n",
      "pandas-profiling 3.2.0 requires visions[type_image_path]==0.7.4, but you have visions 0.7.6 which is incompatible.\n",
      "selenium 4.23.0 requires typing_extensions~=4.9.0, but you have typing-extensions 4.12.2 which is incompatible.\n"
     ]
    },
    {
     "name": "stdout",
     "output_type": "stream",
     "text": [
      "\n",
      "Collecting ydata_profiling\n",
      "  Downloading ydata_profiling-4.9.0-py2.py3-none-any.whl.metadata (20 kB)\n",
      "Requirement already satisfied: scipy<1.14,>=1.4.1 in c:\\users\\ranja\\appdata\\roaming\\python\\python312\\site-packages (from ydata_profiling) (1.12.0)\n",
      "Requirement already satisfied: pandas!=1.4.0,<3,>1.1 in c:\\users\\ranja\\appdata\\roaming\\python\\python312\\site-packages (from ydata_profiling) (2.2.2)\n",
      "Requirement already satisfied: matplotlib<3.10,>=3.5 in c:\\users\\ranja\\appdata\\roaming\\python\\python312\\site-packages (from ydata_profiling) (3.8.2)\n",
      "Requirement already satisfied: pydantic>=2 in c:\\users\\ranja\\appdata\\roaming\\python\\python312\\site-packages (from ydata_profiling) (2.8.2)\n",
      "Requirement already satisfied: PyYAML<6.1,>=5.0.0 in c:\\users\\ranja\\appdata\\roaming\\python\\python312\\site-packages (from ydata_profiling) (6.0.1)\n",
      "Requirement already satisfied: jinja2<3.2,>=2.11.1 in c:\\users\\ranja\\appdata\\roaming\\python\\python312\\site-packages (from ydata_profiling) (3.1.2)\n",
      "Collecting visions<0.7.7,>=0.7.5 (from visions[type_image_path]<0.7.7,>=0.7.5->ydata_profiling)\n",
      "  Downloading visions-0.7.6-py3-none-any.whl.metadata (11 kB)\n",
      "Requirement already satisfied: numpy<2,>=1.16.0 in c:\\users\\ranja\\appdata\\roaming\\python\\python312\\site-packages (from ydata_profiling) (1.26.4)\n",
      "Requirement already satisfied: htmlmin==0.1.12 in c:\\users\\ranja\\appdata\\roaming\\python\\python312\\site-packages (from ydata_profiling) (0.1.12)\n",
      "Requirement already satisfied: phik<0.13,>=0.11.1 in c:\\users\\ranja\\appdata\\roaming\\python\\python312\\site-packages (from ydata_profiling) (0.12.4)\n",
      "Requirement already satisfied: requests<3,>=2.24.0 in c:\\users\\ranja\\appdata\\roaming\\python\\python312\\site-packages (from ydata_profiling) (2.31.0)\n",
      "Requirement already satisfied: tqdm<5,>=4.48.2 in c:\\users\\ranja\\appdata\\roaming\\python\\python312\\site-packages (from ydata_profiling) (4.66.4)\n",
      "Requirement already satisfied: seaborn<0.14,>=0.10.1 in c:\\users\\ranja\\appdata\\roaming\\python\\python312\\site-packages (from ydata_profiling) (0.13.1)\n",
      "Requirement already satisfied: multimethod<2,>=1.4 in c:\\users\\ranja\\appdata\\roaming\\python\\python312\\site-packages (from ydata_profiling) (1.12)\n",
      "Collecting statsmodels<1,>=0.13.2 (from ydata_profiling)\n",
      "  Downloading statsmodels-0.14.2-cp312-cp312-win_amd64.whl.metadata (9.5 kB)\n",
      "Collecting typeguard<5,>=3 (from ydata_profiling)\n",
      "  Downloading typeguard-4.3.0-py3-none-any.whl.metadata (3.7 kB)\n",
      "Requirement already satisfied: imagehash==4.3.1 in c:\\users\\ranja\\appdata\\roaming\\python\\python312\\site-packages (from ydata_profiling) (4.3.1)\n",
      "Requirement already satisfied: wordcloud>=1.9.1 in c:\\users\\ranja\\appdata\\roaming\\python\\python312\\site-packages (from ydata_profiling) (1.9.3)\n",
      "Collecting dacite>=1.8 (from ydata_profiling)\n",
      "  Downloading dacite-1.8.1-py3-none-any.whl.metadata (15 kB)\n",
      "Collecting numba<1,>=0.56.0 (from ydata_profiling)\n",
      "  Downloading numba-0.60.0-cp312-cp312-win_amd64.whl.metadata (2.8 kB)\n",
      "Requirement already satisfied: PyWavelets in c:\\users\\ranja\\appdata\\roaming\\python\\python312\\site-packages (from imagehash==4.3.1->ydata_profiling) (1.6.0)\n",
      "Requirement already satisfied: pillow in c:\\users\\ranja\\appdata\\roaming\\python\\python312\\site-packages (from imagehash==4.3.1->ydata_profiling) (10.1.0)\n",
      "Requirement already satisfied: MarkupSafe>=2.0 in c:\\users\\ranja\\appdata\\roaming\\python\\python312\\site-packages (from jinja2<3.2,>=2.11.1->ydata_profiling) (2.1.3)\n",
      "Requirement already satisfied: contourpy>=1.0.1 in c:\\users\\ranja\\appdata\\roaming\\python\\python312\\site-packages (from matplotlib<3.10,>=3.5->ydata_profiling) (1.2.0)\n",
      "Requirement already satisfied: cycler>=0.10 in c:\\users\\ranja\\appdata\\roaming\\python\\python312\\site-packages (from matplotlib<3.10,>=3.5->ydata_profiling) (0.12.1)\n",
      "Requirement already satisfied: fonttools>=4.22.0 in c:\\users\\ranja\\appdata\\roaming\\python\\python312\\site-packages (from matplotlib<3.10,>=3.5->ydata_profiling) (4.46.0)\n",
      "Requirement already satisfied: kiwisolver>=1.3.1 in c:\\users\\ranja\\appdata\\roaming\\python\\python312\\site-packages (from matplotlib<3.10,>=3.5->ydata_profiling) (1.4.5)\n",
      "Requirement already satisfied: packaging>=20.0 in c:\\users\\ranja\\appdata\\roaming\\python\\python312\\site-packages (from matplotlib<3.10,>=3.5->ydata_profiling) (23.2)\n",
      "Requirement already satisfied: pyparsing>=2.3.1 in c:\\users\\ranja\\appdata\\roaming\\python\\python312\\site-packages (from matplotlib<3.10,>=3.5->ydata_profiling) (3.1.1)\n",
      "Requirement already satisfied: python-dateutil>=2.7 in c:\\users\\ranja\\appdata\\roaming\\python\\python312\\site-packages (from matplotlib<3.10,>=3.5->ydata_profiling) (2.8.2)\n",
      "Collecting llvmlite<0.44,>=0.43.0dev0 (from numba<1,>=0.56.0->ydata_profiling)\n",
      "  Downloading llvmlite-0.43.0-cp312-cp312-win_amd64.whl.metadata (4.9 kB)\n",
      "Requirement already satisfied: pytz>=2020.1 in c:\\users\\ranja\\appdata\\roaming\\python\\python312\\site-packages (from pandas!=1.4.0,<3,>1.1->ydata_profiling) (2023.3.post1)\n",
      "Requirement already satisfied: tzdata>=2022.7 in c:\\users\\ranja\\appdata\\roaming\\python\\python312\\site-packages (from pandas!=1.4.0,<3,>1.1->ydata_profiling) (2023.3)\n",
      "Requirement already satisfied: joblib>=0.14.1 in c:\\users\\ranja\\appdata\\roaming\\python\\python312\\site-packages (from phik<0.13,>=0.11.1->ydata_profiling) (1.1.1)\n",
      "Requirement already satisfied: annotated-types>=0.4.0 in c:\\users\\ranja\\appdata\\roaming\\python\\python312\\site-packages (from pydantic>=2->ydata_profiling) (0.7.0)\n",
      "Requirement already satisfied: pydantic-core==2.20.1 in c:\\users\\ranja\\appdata\\roaming\\python\\python312\\site-packages (from pydantic>=2->ydata_profiling) (2.20.1)\n",
      "Requirement already satisfied: typing-extensions>=4.6.1 in c:\\users\\ranja\\appdata\\roaming\\python\\python312\\site-packages (from pydantic>=2->ydata_profiling) (4.9.0)\n",
      "Requirement already satisfied: charset-normalizer<4,>=2 in c:\\users\\ranja\\appdata\\roaming\\python\\python312\\site-packages (from requests<3,>=2.24.0->ydata_profiling) (3.3.2)\n",
      "Requirement already satisfied: idna<4,>=2.5 in c:\\users\\ranja\\appdata\\roaming\\python\\python312\\site-packages (from requests<3,>=2.24.0->ydata_profiling) (3.6)\n",
      "Requirement already satisfied: urllib3<3,>=1.21.1 in c:\\users\\ranja\\appdata\\roaming\\python\\python312\\site-packages (from requests<3,>=2.24.0->ydata_profiling) (2.1.0)\n",
      "Requirement already satisfied: certifi>=2017.4.17 in c:\\users\\ranja\\appdata\\roaming\\python\\python312\\site-packages (from requests<3,>=2.24.0->ydata_profiling) (2023.11.17)\n",
      "Collecting patsy>=0.5.6 (from statsmodels<1,>=0.13.2->ydata_profiling)\n",
      "  Downloading patsy-0.5.6-py2.py3-none-any.whl.metadata (3.5 kB)\n",
      "Requirement already satisfied: colorama in c:\\users\\ranja\\appdata\\roaming\\python\\python312\\site-packages (from tqdm<5,>=4.48.2->ydata_profiling) (0.4.6)\n",
      "Collecting typing-extensions>=4.6.1 (from pydantic>=2->ydata_profiling)\n",
      "  Using cached typing_extensions-4.12.2-py3-none-any.whl.metadata (3.0 kB)\n",
      "Requirement already satisfied: attrs>=19.3.0 in c:\\users\\ranja\\appdata\\roaming\\python\\python312\\site-packages (from visions<0.7.7,>=0.7.5->visions[type_image_path]<0.7.7,>=0.7.5->ydata_profiling) (23.2.0)\n",
      "Requirement already satisfied: networkx>=2.4 in c:\\users\\ranja\\appdata\\roaming\\python\\python312\\site-packages (from visions<0.7.7,>=0.7.5->visions[type_image_path]<0.7.7,>=0.7.5->ydata_profiling) (3.3)\n",
      "Requirement already satisfied: six in c:\\users\\ranja\\appdata\\roaming\\python\\python312\\site-packages (from patsy>=0.5.6->statsmodels<1,>=0.13.2->ydata_profiling) (1.16.0)\n",
      "Downloading ydata_profiling-4.9.0-py2.py3-none-any.whl (356 kB)\n",
      "   ---------------------------------------- 0.0/356.2 kB ? eta -:--:--\n",
      "   --------------------------------------- 356.2/356.2 kB 11.2 MB/s eta 0:00:00\n",
      "Downloading dacite-1.8.1-py3-none-any.whl (14 kB)\n",
      "Downloading numba-0.60.0-cp312-cp312-win_amd64.whl (2.7 MB)\n",
      "   ---------------------------------------- 0.0/2.7 MB ? eta -:--:--\n",
      "   ------ --------------------------------- 0.5/2.7 MB 9.4 MB/s eta 0:00:01\n",
      "   ----------- ---------------------------- 0.7/2.7 MB 11.7 MB/s eta 0:00:01\n",
      "   --------------------- ------------------ 1.4/2.7 MB 10.0 MB/s eta 0:00:01\n",
      "   ----------------------------- ---------- 2.0/2.7 MB 11.4 MB/s eta 0:00:01\n",
      "   ------------------------------------- -- 2.5/2.7 MB 11.5 MB/s eta 0:00:01\n",
      "   ---------------------------------------- 2.7/2.7 MB 10.1 MB/s eta 0:00:00\n",
      "Downloading statsmodels-0.14.2-cp312-cp312-win_amd64.whl (9.8 MB)\n",
      "   ---------------------------------------- 0.0/9.8 MB ? eta -:--:--\n",
      "   -- ------------------------------------- 0.5/9.8 MB 17.2 MB/s eta 0:00:01\n",
      "   ---- ----------------------------------- 1.1/9.8 MB 13.9 MB/s eta 0:00:01\n",
      "   ------ --------------------------------- 1.6/9.8 MB 13.0 MB/s eta 0:00:01\n",
      "   -------- ------------------------------- 2.2/9.8 MB 12.6 MB/s eta 0:00:01\n",
      "   ---------- ----------------------------- 2.6/9.8 MB 11.9 MB/s eta 0:00:01\n",
      "   ------------- -------------------------- 3.3/9.8 MB 12.3 MB/s eta 0:00:01\n",
      "   --------------- ------------------------ 3.9/9.8 MB 12.3 MB/s eta 0:00:01\n",
      "   ----------------- ---------------------- 4.4/9.8 MB 12.2 MB/s eta 0:00:01\n",
      "   ------------------- -------------------- 4.9/9.8 MB 12.0 MB/s eta 0:00:01\n",
      "   ---------------------- ----------------- 5.4/9.8 MB 12.0 MB/s eta 0:00:01\n",
      "   ------------------------ --------------- 6.0/9.8 MB 11.9 MB/s eta 0:00:01\n",
      "   -------------------------- ------------- 6.5/9.8 MB 11.9 MB/s eta 0:00:01\n",
      "   ---------------------------- ----------- 7.1/9.8 MB 11.9 MB/s eta 0:00:01\n",
      "   ------------------------------- -------- 7.6/9.8 MB 11.9 MB/s eta 0:00:01\n",
      "   --------------------------------- ------ 8.2/9.8 MB 11.8 MB/s eta 0:00:01\n",
      "   ----------------------------------- ---- 8.7/9.8 MB 11.8 MB/s eta 0:00:01\n",
      "   ------------------------------------- -- 9.2/9.8 MB 11.8 MB/s eta 0:00:01\n",
      "   ---------------------------------------  9.8/9.8 MB 11.8 MB/s eta 0:00:01\n",
      "   ---------------------------------------- 9.8/9.8 MB 11.2 MB/s eta 0:00:00\n",
      "Downloading typeguard-4.3.0-py3-none-any.whl (35 kB)\n",
      "Downloading visions-0.7.6-py3-none-any.whl (104 kB)\n",
      "   ---------------------------------------- 0.0/104.8 kB ? eta -:--:--\n",
      "   ---------------------------------------- 104.8/104.8 kB 5.9 MB/s eta 0:00:00\n",
      "Downloading llvmlite-0.43.0-cp312-cp312-win_amd64.whl (28.1 MB)\n",
      "   ---------------------------------------- 0.0/28.1 MB ? eta -:--:--\n",
      "    --------------------------------------- 0.5/28.1 MB 9.8 MB/s eta 0:00:03\n",
      "   - -------------------------------------- 1.0/28.1 MB 10.8 MB/s eta 0:00:03\n",
      "   -- ------------------------------------- 1.6/28.1 MB 11.0 MB/s eta 0:00:03\n",
      "   --- ------------------------------------ 2.1/28.1 MB 11.3 MB/s eta 0:00:03\n",
      "   --- ------------------------------------ 2.7/28.1 MB 12.2 MB/s eta 0:00:03\n",
      "   ---- ----------------------------------- 3.2/28.1 MB 12.0 MB/s eta 0:00:03\n",
      "   ----- ---------------------------------- 3.7/28.1 MB 11.9 MB/s eta 0:00:03\n",
      "   ------ --------------------------------- 4.3/28.1 MB 11.8 MB/s eta 0:00:03\n",
      "   ------ --------------------------------- 4.8/28.1 MB 11.9 MB/s eta 0:00:02\n",
      "   ------- -------------------------------- 5.4/28.1 MB 11.8 MB/s eta 0:00:02\n",
      "   -------- ------------------------------- 5.9/28.1 MB 11.8 MB/s eta 0:00:02\n",
      "   --------- ------------------------------ 6.5/28.1 MB 11.8 MB/s eta 0:00:02\n",
      "   --------- ------------------------------ 6.8/28.1 MB 11.7 MB/s eta 0:00:02\n",
      "   ---------- ----------------------------- 7.6/28.1 MB 11.8 MB/s eta 0:00:02\n",
      "   ----------- ---------------------------- 8.1/28.1 MB 11.8 MB/s eta 0:00:02\n",
      "   ------------ --------------------------- 8.6/28.1 MB 11.7 MB/s eta 0:00:02\n",
      "   ------------- -------------------------- 9.2/28.1 MB 11.7 MB/s eta 0:00:02\n",
      "   ------------- -------------------------- 9.7/28.1 MB 11.7 MB/s eta 0:00:02\n",
      "   -------------- ------------------------- 10.3/28.1 MB 11.7 MB/s eta 0:00:02\n",
      "   --------------- ------------------------ 10.8/28.1 MB 11.7 MB/s eta 0:00:02\n",
      "   ---------------- ----------------------- 11.4/28.1 MB 11.7 MB/s eta 0:00:02\n",
      "   ---------------- ----------------------- 11.9/28.1 MB 11.7 MB/s eta 0:00:02\n",
      "   ----------------- ---------------------- 12.5/28.1 MB 11.7 MB/s eta 0:00:02\n",
      "   ------------------ --------------------- 13.0/28.1 MB 11.9 MB/s eta 0:00:02\n",
      "   ------------------- -------------------- 13.6/28.1 MB 11.9 MB/s eta 0:00:02\n",
      "   -------------------- ------------------- 14.1/28.1 MB 11.9 MB/s eta 0:00:02\n",
      "   -------------------- ------------------- 14.6/28.1 MB 11.9 MB/s eta 0:00:02\n",
      "   --------------------- ------------------ 15.2/28.1 MB 11.9 MB/s eta 0:00:02\n",
      "   ---------------------- ----------------- 15.6/28.1 MB 11.7 MB/s eta 0:00:02\n",
      "   ---------------------- ----------------- 16.1/28.1 MB 11.7 MB/s eta 0:00:02\n",
      "   ----------------------- ---------------- 16.7/28.1 MB 11.7 MB/s eta 0:00:01\n",
      "   ------------------------ --------------- 17.2/28.1 MB 11.7 MB/s eta 0:00:01\n",
      "   ------------------------- -------------- 17.8/28.1 MB 11.7 MB/s eta 0:00:01\n",
      "   -------------------------- ------------- 18.3/28.1 MB 11.7 MB/s eta 0:00:01\n",
      "   -------------------------- ------------- 18.9/28.1 MB 11.7 MB/s eta 0:00:01\n",
      "   --------------------------- ------------ 19.4/28.1 MB 11.7 MB/s eta 0:00:01\n",
      "   ---------------------------- ----------- 19.9/28.1 MB 11.7 MB/s eta 0:00:01\n",
      "   ----------------------------- ---------- 20.5/28.1 MB 11.5 MB/s eta 0:00:01\n",
      "   ----------------------------- ---------- 21.0/28.1 MB 11.5 MB/s eta 0:00:01\n",
      "   ------------------------------ --------- 21.2/28.1 MB 11.5 MB/s eta 0:00:01\n",
      "   ------------------------------ --------- 21.3/28.1 MB 11.1 MB/s eta 0:00:01\n",
      "   ------------------------------ --------- 21.4/28.1 MB 10.4 MB/s eta 0:00:01\n",
      "   ------------------------------ --------- 21.5/28.1 MB 10.1 MB/s eta 0:00:01\n",
      "   ------------------------------ --------- 21.7/28.1 MB 9.8 MB/s eta 0:00:01\n",
      "   ------------------------------- -------- 22.1/28.1 MB 9.8 MB/s eta 0:00:01\n",
      "   -------------------------------- ------- 22.7/28.1 MB 9.6 MB/s eta 0:00:01\n",
      "   --------------------------------- ------ 23.2/28.1 MB 9.6 MB/s eta 0:00:01\n",
      "   --------------------------------- ------ 23.8/28.1 MB 9.6 MB/s eta 0:00:01\n",
      "   ---------------------------------- ----- 24.3/28.1 MB 9.6 MB/s eta 0:00:01\n",
      "   ----------------------------------- ---- 24.8/28.1 MB 9.6 MB/s eta 0:00:01\n",
      "   ------------------------------------ --- 25.4/28.1 MB 9.6 MB/s eta 0:00:01\n",
      "   ------------------------------------ --- 25.9/28.1 MB 9.8 MB/s eta 0:00:01\n",
      "   ------------------------------------- -- 26.5/28.1 MB 9.8 MB/s eta 0:00:01\n",
      "   -------------------------------------- - 27.0/28.1 MB 9.8 MB/s eta 0:00:01\n",
      "   ---------------------------------------  27.6/28.1 MB 9.8 MB/s eta 0:00:01\n",
      "   ---------------------------------------  28.0/28.1 MB 9.8 MB/s eta 0:00:01\n",
      "   ---------------------------------------  28.1/28.1 MB 9.8 MB/s eta 0:00:01\n",
      "   ---------------------------------------- 28.1/28.1 MB 9.1 MB/s eta 0:00:00\n",
      "Downloading patsy-0.5.6-py2.py3-none-any.whl (233 kB)\n",
      "   ---------------------------------------- 0.0/233.9 kB ? eta -:--:--\n",
      "   ---------------------------------------- 233.9/233.9 kB 7.2 MB/s eta 0:00:00\n",
      "Using cached typing_extensions-4.12.2-py3-none-any.whl (37 kB)\n",
      "Installing collected packages: typing-extensions, patsy, llvmlite, dacite, typeguard, numba, visions, statsmodels, ydata_profiling\n",
      "  Attempting uninstall: typing-extensions\n",
      "    Found existing installation: typing_extensions 4.9.0\n",
      "    Uninstalling typing_extensions-4.9.0:\n",
      "      Successfully uninstalled typing_extensions-4.9.0\n",
      "  Attempting uninstall: visions\n",
      "    Found existing installation: visions 0.7.4\n",
      "    Uninstalling visions-0.7.4:\n",
      "      Successfully uninstalled visions-0.7.4\n",
      "Successfully installed dacite-1.8.1 llvmlite-0.43.0 numba-0.60.0 patsy-0.5.6 statsmodels-0.14.2 typeguard-4.3.0 typing-extensions-4.12.2 visions-0.7.6 ydata_profiling-4.9.0\n"
     ]
    }
   ],
   "source": [
    "%pip install ydata_profiling"
   ]
  },
  {
   "cell_type": "code",
   "execution_count": 14,
   "id": "6e030f5c",
   "metadata": {},
   "outputs": [
    {
     "data": {
      "application/vnd.jupyter.widget-view+json": {
       "model_id": "5e85a20f8c70405e8f0919258dd8f4d6",
       "version_major": 2,
       "version_minor": 0
      },
      "text/plain": [
       "Summarize dataset:   0%|          | 0/5 [00:00<?, ?it/s]"
      ]
     },
     "metadata": {},
     "output_type": "display_data"
    },
    {
     "data": {
      "application/vnd.jupyter.widget-view+json": {
       "model_id": "de52efc445cd42359e17d8e2018a70aa",
       "version_major": 2,
       "version_minor": 0
      },
      "text/plain": [
       "Generate report structure:   0%|          | 0/1 [00:00<?, ?it/s]"
      ]
     },
     "metadata": {},
     "output_type": "display_data"
    },
    {
     "data": {
      "application/vnd.jupyter.widget-view+json": {
       "model_id": "d1ac85ce8bc14c6e8b183b72f75f6e0a",
       "version_major": 2,
       "version_minor": 0
      },
      "text/plain": [
       "Render HTML:   0%|          | 0/1 [00:00<?, ?it/s]"
      ]
     },
     "metadata": {},
     "output_type": "display_data"
    },
    {
     "data": {
      "application/vnd.jupyter.widget-view+json": {
       "model_id": "dba89180a9f841a9b00c8282c854ed91",
       "version_major": 2,
       "version_minor": 0
      },
      "text/plain": [
       "Export report to file:   0%|          | 0/1 [00:00<?, ?it/s]"
      ]
     },
     "metadata": {},
     "output_type": "display_data"
    }
   ],
   "source": [
    "import pandas as pd\n",
    "from ydata_profiling import ProfileReport\n",
    "\n",
    "# Load your dataset\n",
    "df = pd.read_csv('gurgaon_properties_cleaned_v2.csv').drop_duplicates()\n",
    "\n",
    "# Create the ProfileReport object\n",
    "profile = ProfileReport(df, title='Pandas Profiling Report', explorative=True)\n",
    "\n",
    "# Generate the report\n",
    "profile.to_file(\"output_report.html\")\n"
   ]
  },
  {
   "cell_type": "code",
   "execution_count": null,
   "id": "88bedb41",
   "metadata": {},
   "outputs": [],
   "source": []
  }
 ],
 "metadata": {
  "kernelspec": {
   "display_name": "Python 3 (ipykernel)",
   "language": "python",
   "name": "python3"
  },
  "language_info": {
   "codemirror_mode": {
    "name": "ipython",
    "version": 3
   },
   "file_extension": ".py",
   "mimetype": "text/x-python",
   "name": "python",
   "nbconvert_exporter": "python",
   "pygments_lexer": "ipython3",
   "version": "3.12.1"
  }
 },
 "nbformat": 4,
 "nbformat_minor": 5
}
